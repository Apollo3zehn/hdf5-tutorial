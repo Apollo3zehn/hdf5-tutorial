{
 "cells": [
  {
   "attachments": {},
   "cell_type": "markdown",
   "metadata": {},
   "source": [
    "# 2 Using Command Line Tools"
   ]
  },
  {
   "attachments": {},
   "cell_type": "markdown",
   "metadata": {},
   "source": [
    "Objectives:\n",
    " * Learn about the command line tools that are included with the HDF5 library (and h5pyd package for HSDS)\n",
    " * You can run these in a notebook using the shell escape '!', or open a terminal window and run them from there\n",
    " "
   ]
  },
  {
   "cell_type": "code",
   "execution_count": 1,
   "metadata": {},
   "outputs": [
    {
     "name": "stdout",
     "output_type": "stream",
     "text": [
      "[0] Downloading 'https://s3.amazonaws.com/hdfgroup/data/hdf5test/tall.h5' ...\n",
      "Saving 'tall.h5.2'\n",
      "HTTP response 200 OK [https://s3.amazonaws.com/hdfgroup/data/hdf5test/tall.h5]\n",
      "\u001b[m\u001b[m\u001b[m\u001b[m"
     ]
    }
   ],
   "source": [
    "# get a sample HDF5 file\n",
    "! wget https://s3.amazonaws.com/hdfgroup/data/hdf5test/tall.h5"
   ]
  },
  {
   "cell_type": "code",
   "execution_count": 2,
   "metadata": {
    "collapsed": false,
    "jupyter": {
     "outputs_hidden": false
    }
   },
   "outputs": [
    {
     "name": "stdout",
     "output_type": "stream",
     "text": [
      "/                        Group\n",
      "/g1                      Group\n",
      "/g1/g1.1                 Group\n",
      "/g1/g1.1/dset1.1.1       Dataset {10, 10}\n",
      "/g1/g1.1/dset1.1.2       Dataset {20}\n",
      "/g1/g1.2                 Group\n",
      "/g1/g1.2/extlink         External Link {somefile//somepath}\n",
      "/g1/g1.2/g1.2.1          Group\n",
      "/g1/g1.2/g1.2.1/slink    Soft Link {somevalue}\n",
      "/g2                      Group\n",
      "/g2/dset2.1              Dataset {10}\n",
      "/g2/dset2.2              Dataset {3, 5}\n"
     ]
    }
   ],
   "source": [
    "# Display objects with a file. Use -r for recursive mode\n",
    "! h5ls -r tall.h5"
   ]
  },
  {
   "cell_type": "code",
   "execution_count": 3,
   "metadata": {
    "collapsed": false,
    "jupyter": {
     "outputs_hidden": false
    }
   },
   "outputs": [
    {
     "name": "stdout",
     "output_type": "stream",
     "text": [
      "HDF5 \"tall.h5\" {\n",
      "GROUP \"/\" {\n",
      "   ATTRIBUTE \"attr1\" {\n",
      "      DATATYPE  H5T_STD_I8BE\n",
      "      DATASPACE  SIMPLE { ( 10 ) / ( 10 ) }\n",
      "      DATA {\n",
      "         \"abcdefghi\\000\"\n",
      "      }\n",
      "   }\n",
      "   ATTRIBUTE \"attr2\" {\n",
      "      DATATYPE  H5T_STD_I32BE\n",
      "      DATASPACE  SIMPLE { ( 2, 2 ) / ( 2, 2 ) }\n",
      "      DATA {\n",
      "      (0,0): 0, 1,\n",
      "      (1,0): 2, 3\n",
      "      }\n",
      "   }\n",
      "   GROUP \"g1\" {\n",
      "      GROUP \"g1.1\" {\n",
      "         DATASET \"dset1.1.1\" {\n",
      "            DATATYPE  H5T_STD_I32BE\n",
      "            DATASPACE  SIMPLE { ( 10, 10 ) / ( 10, 10 ) }\n",
      "            DATA {\n",
      "            (0,0): 0, 0, 0, 0, 0, 0, 0, 0, 0, 0,\n",
      "            (1,0): 0, 1, 2, 3, 4, 5, 6, 7, 8, 9,\n",
      "            (2,0): 0, 2, 4, 6, 8, 10, 12, 14, 16, 18,\n",
      "            (3,0): 0, 3, 6, 9, 12, 15, 18, 21, 24, 27,\n",
      "            (4,0): 0, 4, 8, 12, 16, 20, 24, 28, 32, 36,\n",
      "            (5,0): 0, 5, 10, 15, 20, 25, 30, 35, 40, 45,\n",
      "            (6,0): 0, 6, 12, 18, 24, 30, 36, 42, 48, 54,\n",
      "            (7,0): 0, 7, 14, 21, 28, 35, 42, 49, 56, 63,\n",
      "            (8,0): 0, 8, 16, 24, 32, 40, 48, 56, 64, 72,\n",
      "            (9,0): 0, 9, 18, 27, 36, 45, 54, 63, 72, 81\n",
      "            }\n",
      "            ATTRIBUTE \"attr1\" {\n",
      "               DATATYPE  H5T_STD_I8BE\n",
      "               DATASPACE  SIMPLE { ( 27 ) / ( 27 ) }\n",
      "               DATA {\n",
      "                  \"1st attribute of dset1.1.1\\000\"\n",
      "               }\n",
      "            }\n",
      "            ATTRIBUTE \"attr2\" {\n",
      "               DATATYPE  H5T_STD_I8BE\n",
      "               DATASPACE  SIMPLE { ( 27 ) / ( 27 ) }\n",
      "               DATA {\n",
      "                  \"2nd attribute of dset1.1.1\\000\"\n",
      "               }\n",
      "            }\n",
      "         }\n",
      "         DATASET \"dset1.1.2\" {\n",
      "            DATATYPE  H5T_STD_I32BE\n",
      "            DATASPACE  SIMPLE { ( 20 ) / ( 20 ) }\n",
      "            DATA {\n",
      "            (0): 0, 1, 2, 3, 4, 5, 6, 7, 8, 9, 10, 11, 12, 13, 14, 15, 16,\n",
      "            (17): 17, 18, 19\n",
      "            }\n",
      "         }\n",
      "      }\n",
      "      GROUP \"g1.2\" {\n",
      "         EXTERNAL_LINK \"extlink\" {\n",
      "            TARGETFILE \"somefile\"\n",
      "            TARGETPATH \"somepath\"\n",
      "         }\n",
      "         GROUP \"g1.2.1\" {\n",
      "            SOFTLINK \"slink\" {\n",
      "               LINKTARGET \"somevalue\"\n",
      "            }\n",
      "         }\n",
      "      }\n",
      "   }\n",
      "   GROUP \"g2\" {\n",
      "      DATASET \"dset2.1\" {\n",
      "         DATATYPE  H5T_IEEE_F32BE\n",
      "         DATASPACE  SIMPLE { ( 10 ) / ( 10 ) }\n",
      "         DATA {\n",
      "         (0): 1, 1.1, 1.2, 1.3, 1.4, 1.5, 1.6, 1.7, 1.8, 1.9\n",
      "         }\n",
      "      }\n",
      "      DATASET \"dset2.2\" {\n",
      "         DATATYPE  H5T_IEEE_F32BE\n",
      "         DATASPACE  SIMPLE { ( 3, 5 ) / ( 3, 5 ) }\n",
      "         DATA {\n",
      "         (0,0): 0, 0.1, 0.2, 0.3, 0.4,\n",
      "         (1,0): 0, 0.2, 0.4, 0.6, 0.8,\n",
      "         (2,0): 0, 0.3, 0.6, 0.9, 1.2\n",
      "         }\n",
      "      }\n",
      "   }\n",
      "}\n",
      "}\n"
     ]
    }
   ],
   "source": [
    "# h5dump will show the dataset contents by default\n",
    "! h5dump -r tall.h5"
   ]
  },
  {
   "cell_type": "code",
   "execution_count": 4,
   "metadata": {
    "collapsed": false,
    "jupyter": {
     "outputs_hidden": false
    }
   },
   "outputs": [
    {
     "name": "stdout",
     "output_type": "stream",
     "text": [
      "server name: Highly Scalable Data Service (HSDS)\n",
      "server state: READY\n",
      "endpoint: http://localhost:5101\n",
      "username: john (admin)\n",
      "password: ****\n",
      "WARNING:root:status_code: 404\n",
      "home: NO ACCESS\n",
      "server version: 0.8.3\n",
      "node count: 4\n",
      "up: 40 min 55 sec\n",
      "h5pyd version: 0.15.1\n"
     ]
    }
   ],
   "source": [
    "# On the HSDS side, hsinfo will show the current server status\n",
    "! hsinfo"
   ]
  },
  {
   "cell_type": "code",
   "execution_count": 5,
   "metadata": {},
   "outputs": [
    {
     "name": "stdout",
     "output_type": "stream",
     "text": [
      "WARNING:root:runtime error getting fillvalue for dataset: /g1/g1.1/dset1.1.1\n",
      "WARNING:root:runtime error getting fillvalue for dataset: /g1/g1.1/dset1.1.2\n",
      "WARNING:root:runtime error getting fillvalue for dataset: /g2/dset2.1\n",
      "WARNING:root:runtime error getting fillvalue for dataset: /g2/dset2.2\n",
      "WARNING:root:runtime error getting fillvalue for dataset: /g1/g1.1/dset1.1.1\n",
      "WARNING:root:runtime error getting fillvalue for dataset: /g1/g1.1/dset1.1.2\n",
      "WARNING:root:runtime error getting fillvalue for dataset: /g2/dset2.1\n",
      "WARNING:root:runtime error getting fillvalue for dataset: /g2/dset2.2\n"
     ]
    }
   ],
   "source": [
    "# you can use hsload to copy a local file to HSDS\n",
    "! hsload tall.h5 /"
   ]
  },
  {
   "cell_type": "code",
   "execution_count": 6,
   "metadata": {},
   "outputs": [
    {
     "name": "stdout",
     "output_type": "stream",
     "text": [
      "/ Group\n",
      "/g1 Group\n",
      "/g1/g1.1 Group\n",
      "/g1/g1.1/dset1.1.1 Dataset {10, 10}\n",
      "/g1/g1.1/dset1.1.2 Dataset {20}\n",
      "/g1/g1.2 Group\n",
      "/g1/g1.2/g1.2.1 Group\n",
      "/g1/g1.2/g1.2.1/slink    SoftLink {somevalue}\n",
      "/g1/g1.2/extlink         ExternalLink {somepath//somefile}\n",
      "/g2 Group\n",
      "/g2/dset2.1 Dataset {10}\n",
      "/g2/dset2.2 Dataset {3, 5}\n"
     ]
    }
   ],
   "source": [
    "# hsls works like h5ls but with content managed by the server\n",
    "! hsls -r /tall.h5"
   ]
  },
  {
   "cell_type": "code",
   "execution_count": 7,
   "metadata": {},
   "outputs": [
    {
     "name": "stdout",
     "output_type": "stream",
     "text": [
      "Can not update timestamp of folder object\n",
      "load_file, compressLevel: None\n",
      "john                                                folder   2023-09-21 10:21:33 /tutorial/\n",
      "john                                                domain   2023-09-21 10:39:58 /tutorial/tall.h5\n",
      "2 items\n"
     ]
    }
   ],
   "source": [
    "# Use the hstouch can be used to create a new folder (note: trailing slash is needed)\n",
    "# let's use hscp to copy the tall.h5 in the root folder to our new folder and\n",
    "# then list the contents of the folder\n",
    "! hstouch /tutorial/\n",
    "! hscp /tall.h5 /tutorial/\n",
    "! hsls /tutorial/"
   ]
  },
  {
   "attachments": {},
   "cell_type": "markdown",
   "metadata": {},
   "source": [
    "Problem: Try the above hsls command with the -H -v flags"
   ]
  },
  {
   "attachments": {},
   "cell_type": "markdown",
   "metadata": {},
   "source": [
    "Problem: Try the above command with different options:\n",
    "* -v\n",
    "* --showattrs\n",
    "* --showacls\n",
    "* --loglevel debug"
   ]
  },
  {
   "attachments": {},
   "cell_type": "markdown",
   "metadata": {},
   "source": [
    "\n",
    "### Download the file \n",
    "Run: `$ hsget /tutorial/tall.h5 tall2.h5`\n",
    "This will download the file as tall2.h5\n"
   ]
  },
  {
   "attachments": {},
   "cell_type": "markdown",
   "metadata": {},
   "source": [
    "### Compare the two files\n",
    "Run: `$ h5dump tall.h5` \n",
    "and `$h5dump tall2.h5`\n",
    "\n",
    "Problem: Are these files the same?"
   ]
  },
  {
   "cell_type": "code",
   "execution_count": 11,
   "metadata": {},
   "outputs": [],
   "source": [
    "### hsstat\n",
    "# hsstat provides information about storage used for HSDS objects similar to how h5stat works\n",
    "# Note: it may take a minute before the information displayed by hsstat is current\n"
   ]
  },
  {
   "cell_type": "code",
   "execution_count": 12,
   "metadata": {},
   "outputs": [
    {
     "name": "stdout",
     "output_type": "stream",
     "text": [
      "domain: /tutorial/tall.h5\n",
      "    owner:           john\n",
      "    id:              g-ad1a65c6-2c6d99f5-2592-ed4ea4-e5117d\n",
      "    last modified:   2023-09-21 10:27:42\n",
      "    last scan:       2023-09-21 10:28:50\n",
      "    md5 sum:         813df5e3ca847eb66ed783e2adcdd45d\n",
      "    total_size:      6017\n",
      "    allocated_bytes: 580\n",
      "    metadata_bytes:  5185\n",
      "    num objects:     10\n",
      "    num chunks:      4\n"
     ]
    }
   ],
   "source": [
    "# If no information is returned, wait a minute and try again!\n",
    "! hsstat /tutorial/tall.h5"
   ]
  },
  {
   "attachments": {},
   "cell_type": "markdown",
   "metadata": {},
   "source": [
    "### ACLS (Access Control List)\n",
    "Each server domain or folder can contain one or more ACLs that control\n",
    "who may perform operations (e.g. read/update/delete)\n",
    "\n",
    "\n"
   ]
  },
  {
   "cell_type": "code",
   "execution_count": 8,
   "metadata": {},
   "outputs": [
    {
     "name": "stdout",
     "output_type": "stream",
     "text": [
      "       username     create      read    update    delete   readACL  updateACL \n",
      "--------------------------------------------------------------------------------\n",
      "           john       True      True      True      True      True      True \n"
     ]
    }
   ],
   "source": [
    "# Run hsacl\n",
    "! hsacl /tutorial/tall.h5"
   ]
  },
  {
   "cell_type": "markdown",
   "metadata": {},
   "source": [
    "Problem: add an acl that gives all users read permissions (see hsacl --help)"
   ]
  }
 ],
 "metadata": {
  "kernelspec": {
   "display_name": "Python 3",
   "language": "python",
   "name": "python3"
  },
  "language_info": {
   "codemirror_mode": {
    "name": "ipython",
    "version": 3
   },
   "file_extension": ".py",
   "mimetype": "text/x-python",
   "name": "python",
   "nbconvert_exporter": "python",
   "pygments_lexer": "ipython3",
   "version": "3.9.18"
  }
 },
 "nbformat": 4,
 "nbformat_minor": 4
}
