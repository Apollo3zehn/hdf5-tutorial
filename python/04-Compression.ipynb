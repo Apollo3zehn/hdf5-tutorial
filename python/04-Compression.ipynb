{
 "cells": [
  {
   "attachments": {},
   "cell_type": "markdown",
   "metadata": {},
   "source": [
    "# Compression and Chunking"
   ]
  },
  {
   "attachments": {},
   "cell_type": "markdown",
   "metadata": {},
   "source": [
    "Objectives\n",
    " * Explore the use of compression \n",
    " * Learn about chunking\n",
    " * Understand how dataset data is allocated"
   ]
  },
  {
   "cell_type": "code",
   "execution_count": 1,
   "metadata": {},
   "outputs": [],
   "source": [
    "USE_H5PY = True # set to False to use HSDS instead\n",
    "if USE_H5PY:\n",
    "    import h5py\n",
    "    WORK_DIR=\".\"  # this directory\n",
    "else:\n",
    "    import h5pyd as h5py\n",
    "    WORK_DIR=\"hdf5://tutorial/\"  # can be any folder where you have write access\n",
    "import os.path as op\n",
    "import numpy as np"
   ]
  },
  {
   "cell_type": "code",
   "execution_count": 2,
   "metadata": {},
   "outputs": [
    {
     "name": "stdout",
     "output_type": "stream",
     "text": [
      "creating HDF5 file here: ./04.h5\n"
     ]
    },
    {
     "data": {
      "text/plain": [
       "72057594037927936"
      ]
     },
     "execution_count": 2,
     "metadata": {},
     "output_type": "execute_result"
    }
   ],
   "source": [
    "filepath = op.join(WORK_DIR, \"04.h5\")\n",
    "print(f\"creating HDF5 file here: {filepath}\")\n",
    "f = h5py.File(filepath, 'w')\n",
    "f.id.id"
   ]
  },
  {
   "cell_type": "code",
   "execution_count": 3,
   "metadata": {},
   "outputs": [
    {
     "data": {
      "text/plain": [
       "[None, 'gzip', 'lzf']"
      ]
     },
     "execution_count": 3,
     "metadata": {},
     "output_type": "execute_result"
    }
   ],
   "source": [
    "# there a different compression filters that can be used\n",
    "# In HSDS, f.compressors will return a list of available filters\n",
    "# For HDF5Lib, filters \"gzip\" and \"lzf\" are always available - others \n",
    "# may be sorted via a plugin\n",
    "compressors = [None,]\n",
    "if USE_H5PY:\n",
    "    compressors.extend((\"gzip\", \"lzf\"))\n",
    "else:\n",
    "    compressors.extend(f.compressors)\n",
    "compressors"
   ]
  },
  {
   "cell_type": "code",
   "execution_count": 4,
   "metadata": {},
   "outputs": [],
   "source": [
    "# create a dataset with each type of compressor (+None for no compression)\n",
    "shape = (80, 40)\n",
    "dtype = 'i8'\n",
    "for compression in compressors:\n",
    "    dset_name = f\"dset_{compression}\"\n",
    "    if dset_name in f:\n",
    "        del f[dset_name] # delete the dataset if it already exists\n",
    "    # create an array of random ints with a upper cap on the upper value\n",
    "    # (otherwise compressor won't be able to much)\n",
    "    arr = np.random.randint(0, 1000, shape)\n",
    "    dset = f.create_dataset(dset_name, data=arr, compression=compression)\n"
   ]
  },
  {
   "cell_type": "code",
   "execution_count": 5,
   "metadata": {},
   "outputs": [],
   "source": [
    "f.close()  # close file we can use h5ls on it (for h5py)"
   ]
  },
  {
   "cell_type": "code",
   "execution_count": 6,
   "metadata": {},
   "outputs": [],
   "source": [
    "def get_dset_stats(filename, dsetname):\n",
    "    if USE_H5PY:\n",
    "        print(f\"Running h5ls to get dataset info\")\n",
    "        ! h5ls -v {filename}/{dsetname}\n",
    "    else:\n",
    "        # H5PYD has a num_chunks attribute to tell you how many chunks\n",
    "        # have been allocated\n",
    "        # num_chunks is determined asynchronously by the HDF Server. \n",
    "        # If num_chunks is 0, wait a few seconds and re-run the cell.\n",
    "        with h5py.File(filename) as f:\n",
    "            dset = f[dsetname]\n",
    "            logical_size = dset.dtype.itemsize\n",
    "        for dim in dset.shape:\n",
    "            logical_size *= dim\n",
    "        print(f\"logical size:   {logical_size}\")\n",
    "        if not dset.num_chunks:\n",
    "            print(\"No chunks found, if something has been written to this dataset, wait a minute and try this again\")\n",
    "        else:\n",
    "            obj_json = dset.id.obj_json\n",
    "            layout = obj_json[\"layout\"]\n",
    "            chunk_shape = layout[\"dims\"]\n",
    "            chunk_size = dset.dtype.itemsize\n",
    "            for dim in chunk_shape:\n",
    "                chunk_size *= dim\n",
    "            print(f\"Chunks: {chunk_shape} {chunk_size} bytes\")\n",
    "            # allocated size is also determined asynchronously, but \n",
    "            # is show be updated if num_chunks is\n",
    "            print(f\"allocated size: {dset.allocated_size}\")\n",
    "            ratio = logical_size/dset.allocated_size\n",
    "            ratio *= 100.0\n",
    "            print(f\"utilization: {ratio:.2f}%\")\n",
    "            print(f\"num_chunks: {dset.num_chunks}\")\n",
    "            if dset.compression:\n",
    "                print(f\"Filter: {dset.compression} OPT: {dset.compression_opts}\")\n",
    "    print(\"-\"*40)  "
   ]
  },
  {
   "cell_type": "code",
   "execution_count": 7,
   "metadata": {},
   "outputs": [
    {
     "name": "stdout",
     "output_type": "stream",
     "text": [
      "dset_None\n",
      "Running h5ls to get dataset info\n",
      "Opened \"./04.h5\" with sec2 driver.\n",
      "dset_None                Dataset {80/80, 40/40}\n",
      "    Location:  1:800\n",
      "    Links:     1\n",
      "    Storage:   25600 logical bytes, 25600 allocated bytes, 100.00% utilization\n",
      "    Type:      native long\n",
      "----------------------------------------\n",
      "dset_gzip\n",
      "Running h5ls to get dataset info\n",
      "Opened \"./04.h5\" with sec2 driver.\n",
      "dset_gzip                Dataset {80/80, 40/40}\n",
      "    Location:  1:1400\n",
      "    Links:     1\n",
      "    Chunks:    {40, 20} 6400 bytes\n",
      "    Storage:   25600 logical bytes, 7128 allocated bytes, 359.15% utilization\n",
      "    Filter-0:  deflate-1 OPT {4}\n",
      "    Type:      native long\n",
      "----------------------------------------\n",
      "dset_lzf\n",
      "Running h5ls to get dataset info\n",
      "Opened \"./04.h5\" with sec2 driver.\n",
      "dset_lzf                 Dataset {80/80, 40/40}\n",
      "    Location:  1:1672\n",
      "    Links:     1\n",
      "    Chunks:    {40, 20} 6400 bytes\n",
      "    Storage:   25600 logical bytes, 10852 allocated bytes, 235.90% utilization\n",
      "    Filter-0:  lzf-32000 OPT {4, 261, 6400}\n",
      "    Type:      native long\n",
      "----------------------------------------\n"
     ]
    }
   ],
   "source": [
    "for compression in compressors:\n",
    "    dset_name = f\"dset_{compression}\"\n",
    "    print(dset_name)\n",
    "    get_dset_stats(filepath, dset_name)"
   ]
  },
  {
   "attachments": {},
   "cell_type": "markdown",
   "metadata": {},
   "source": [
    "Problem: which filter gave the best compression?  Why do you think other filters would be used?"
   ]
  },
  {
   "attachments": {},
   "cell_type": "markdown",
   "metadata": {},
   "source": [
    "# Chunking"
   ]
  },
  {
   "attachments": {},
   "cell_type": "markdown",
   "metadata": {},
   "source": [
    "HDF datasets can be tiled into a a set of chunks.  This enables reading/writing data from storage to be done more efficiently.\n",
    "\n",
    "With the HDF5 native library, each chunk is stored in a contiguous section of the file.\n",
    "\n",
    "With HSDS, each chunk is stored as a seperate object. The chunk shape determines how many chunks will be used.  If not provided in create_dataset, the HDF5 library will store all the data for the file contiguously.  In HSDS a chunk layout will be determined automatically. "
   ]
  },
  {
   "cell_type": "code",
   "execution_count": 8,
   "metadata": {},
   "outputs": [
    {
     "data": {
      "text/plain": [
       "360287970189639683"
      ]
     },
     "execution_count": 8,
     "metadata": {},
     "output_type": "execute_result"
    }
   ],
   "source": [
    "# create a datatset using the chunks option\n",
    "f = h5py.File(filepath, \"a\")  # re-open in append mode\n",
    "dset4 = f.create_dataset(\"dset_chunks\", (40,80), dtype='i1', chunks=(4,8))\n",
    "dset4.id.id"
   ]
  },
  {
   "cell_type": "code",
   "execution_count": 9,
   "metadata": {},
   "outputs": [
    {
     "data": {
      "text/plain": [
       "(4, 8)"
      ]
     },
     "execution_count": 9,
     "metadata": {},
     "output_type": "execute_result"
    }
   ],
   "source": [
    "# The chunk property will return the chunk shape provided in the initializer\n",
    "dset4.chunks"
   ]
  },
  {
   "cell_type": "code",
   "execution_count": 10,
   "metadata": {},
   "outputs": [],
   "source": [
    "# create a larger dataset using the chunks layout\n",
    "dset5 = f.create_dataset(\"big_dset\", (4000,8000), dtype='i1', chunks=(4,8))"
   ]
  },
  {
   "cell_type": "code",
   "execution_count": 11,
   "metadata": {},
   "outputs": [
    {
     "data": {
      "text/plain": [
       "(4, 8)"
      ]
     },
     "execution_count": 11,
     "metadata": {},
     "output_type": "execute_result"
    }
   ],
   "source": [
    "# get the chunk layout for dsset5\n",
    "dset5.chunks"
   ]
  },
  {
   "cell_type": "code",
   "execution_count": 12,
   "metadata": {},
   "outputs": [],
   "source": [
    "# internally, HSDS may alter the requested chunk shape for efficiency\n",
    "if not USE_H5PY:\n",
    "    obj_json = dset5.id.obj_json\n",
    "    layout = obj_json[\"layout\"]\n",
    "    print(layout)"
   ]
  },
  {
   "cell_type": "code",
   "execution_count": 13,
   "metadata": {},
   "outputs": [],
   "source": [
    "# no actual chunks have been stored since we haven't written anything to the dataset.\n",
    "# write something to the dataset, this will initialize several chunks\n",
    "dset5[2000,:] = 42"
   ]
  },
  {
   "cell_type": "code",
   "execution_count": 14,
   "metadata": {},
   "outputs": [],
   "source": [
    "# close for use with h5stat\n",
    "f.close()"
   ]
  },
  {
   "cell_type": "code",
   "execution_count": 15,
   "metadata": {},
   "outputs": [
    {
     "name": "stdout",
     "output_type": "stream",
     "text": [
      "Running h5ls to get dataset info\n",
      "Opened \"./04.h5\" with sec2 driver.\n",
      "None       **NOT FOUND** ----------------------------------------\n"
     ]
    }
   ],
   "source": [
    "# get info on what's been allocated\n",
    "get_dset_stats(filepath, dset5.name)"
   ]
  }
 ],
 "metadata": {
  "kernelspec": {
   "display_name": "Python 3",
   "language": "python",
   "name": "python3"
  },
  "language_info": {
   "codemirror_mode": {
    "name": "ipython",
    "version": 3
   },
   "file_extension": ".py",
   "mimetype": "text/x-python",
   "name": "python",
   "nbconvert_exporter": "python",
   "pygments_lexer": "ipython3",
   "version": "3.9.18"
  }
 },
 "nbformat": 4,
 "nbformat_minor": 4
}
